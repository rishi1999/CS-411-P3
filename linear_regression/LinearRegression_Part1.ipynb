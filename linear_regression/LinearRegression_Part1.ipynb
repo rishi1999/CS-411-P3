{
 "cells": [
  {
   "cell_type": "code",
   "execution_count": 1,
   "id": "691d7efc",
   "metadata": {},
   "outputs": [],
   "source": [
    "import numpy as np\n",
    "rng = np.random.default_rng()\n",
    "from tqdm import tqdm, trange"
   ]
  },
  {
   "cell_type": "code",
   "execution_count": 2,
   "id": "bafb39ae",
   "metadata": {},
   "outputs": [],
   "source": [
    "# read file with multiple attributes\n",
    "\n",
    "def read_input_file(filename):\n",
    "    x = []\n",
    "    y = []\n",
    "    \n",
    "    with open(filename) as f:\n",
    "        lines = f.readlines()\n",
    "        for line in lines[1:]:\n",
    "            line = [float(i.strip()) for i in line.split(',')]\n",
    "            x.append(line[:-1])\n",
    "            y.append(line[-1])\n",
    "    x = np.asarray(x)\n",
    "    y = np.asarray(y)\n",
    "    y = y.reshape(y.shape[0], 1)\n",
    "\n",
    "    return x, y"
   ]
  },
  {
   "cell_type": "code",
   "execution_count": 3,
   "id": "0f8dd1df-ff64-490c-bf66-7e3aa5487923",
   "metadata": {},
   "outputs": [],
   "source": [
    "dataset = 'demo'"
   ]
  },
  {
   "cell_type": "code",
   "execution_count": 4,
   "id": "d24a019d",
   "metadata": {},
   "outputs": [],
   "source": [
    "# attributes and output\n",
    "filename = f'datasets/{dataset}/train.txt'\n",
    "\n",
    "x, y = read_input_file(filename)"
   ]
  },
  {
   "cell_type": "code",
   "execution_count": 5,
   "id": "a3e6c2b2-ff5d-421e-bdf5-63fad043a8cf",
   "metadata": {},
   "outputs": [],
   "source": [
    "tqdm._instances.clear()"
   ]
  },
  {
   "cell_type": "code",
   "execution_count": 6,
   "id": "6b66d14d",
   "metadata": {},
   "outputs": [],
   "source": [
    "# build model\n",
    "# gradient descent for loss function\n",
    "\n",
    "def linear_regression(x, y):\n",
    "    shape = (x.shape[1], 1)\n",
    "    # w = np.zeros(shape)\n",
    "    w = rng.uniform(-1, 1, shape)\n",
    "    # b = 0\n",
    "    b = rng.uniform(-1, 1)\n",
    "    alpha = 0.0001\n",
    "    n = x.shape[0]\n",
    "    \n",
    "    epochs = 100000 // n\n",
    "    for e in trange(epochs):\n",
    "        for num in range(n):\n",
    "            y_pred = np.dot(x, w)+b\n",
    "            partial_w = (1/n)*np.sum(np.dot(x.T, y_pred-y))\n",
    "            partial_b = (1/n)*np.sum(y_pred-y)\n",
    "            w = w - alpha*partial_w\n",
    "            b = b - alpha*partial_b\n",
    " \n",
    "    return w, b"
   ]
  },
  {
   "cell_type": "code",
   "execution_count": 7,
   "id": "640254ba",
   "metadata": {},
   "outputs": [
    {
     "name": "stderr",
     "output_type": "stream",
     "text": [
      "100%|███████████████████████████████████████████████████████| 11111/11111 [00:04<00:00, 2496.74it/s]\n"
     ]
    }
   ],
   "source": [
    "# weights and bias\n",
    "w, b = linear_regression(x, y)"
   ]
  },
  {
   "cell_type": "code",
   "execution_count": 8,
   "id": "9a89eca1",
   "metadata": {},
   "outputs": [],
   "source": [
    "# read test file\n",
    "\n",
    "def read_test_file(test_file):\n",
    "    t = []\n",
    "    \n",
    "    with open(test_file) as f:\n",
    "        lines = f.readlines()\n",
    "        for line in lines[1:]:\n",
    "            line = [float(i.strip()) for i in line.split(',')]\n",
    "            t.append(line)\n",
    "    t = np.asarray(t)\n",
    "\n",
    "    return t"
   ]
  },
  {
   "cell_type": "code",
   "execution_count": 9,
   "id": "74623d05",
   "metadata": {},
   "outputs": [],
   "source": [
    "filename = f'datasets/{dataset}/test.txt'\n",
    "t = read_test_file(filename)"
   ]
  },
  {
   "cell_type": "code",
   "execution_count": 10,
   "id": "163b2b7f-6cc0-473b-8b0e-e418e746600a",
   "metadata": {},
   "outputs": [],
   "source": [
    "res = [str(i[0]) for i in np.dot(t, w) + b]"
   ]
  },
  {
   "cell_type": "code",
   "execution_count": 11,
   "id": "e8d65a11",
   "metadata": {},
   "outputs": [],
   "source": [
    "# use test file and write predicted values to new file\n",
    "with open(f'datasets/{dataset}/out.txt', 'w') as f:\n",
    "    f.write('\\n'.join(res))"
   ]
  },
  {
   "cell_type": "code",
   "execution_count": null,
   "id": "d4c5eaad",
   "metadata": {},
   "outputs": [],
   "source": []
  },
  {
   "cell_type": "code",
   "execution_count": null,
   "id": "0e1f8f0a-b81b-42c2-9166-de90ba2c3980",
   "metadata": {},
   "outputs": [],
   "source": []
  }
 ],
 "metadata": {
  "kernelspec": {
   "display_name": "Python [conda env:cs411]",
   "language": "python",
   "name": "conda-env-cs411-py"
  },
  "language_info": {
   "codemirror_mode": {
    "name": "ipython",
    "version": 3
   },
   "file_extension": ".py",
   "mimetype": "text/x-python",
   "name": "python",
   "nbconvert_exporter": "python",
   "pygments_lexer": "ipython3",
   "version": "3.10.2"
  }
 },
 "nbformat": 4,
 "nbformat_minor": 5
}
