{
 "cells": [
  {
   "cell_type": "code",
   "execution_count": 48,
   "id": "691d7efc",
   "metadata": {},
   "outputs": [],
   "source": [
    "import numpy as np\n",
    "rng = np.random.default_rng()\n",
    "from tqdm import tqdm, trange\n",
    "import matplotlib.pyplot as plt"
   ]
  },
  {
   "cell_type": "code",
   "execution_count": 49,
   "id": "bafb39ae",
   "metadata": {},
   "outputs": [],
   "source": [
    "# read file with single input variable\n",
    "\n",
    "def read_input_file(filename):\n",
    "    x = []\n",
    "    y = []\n",
    "    \n",
    "    with open(filename) as f:\n",
    "        lines = f.readlines()\n",
    "        for line in lines[1:]:\n",
    "            line = [float(i.strip()) for i in line.split(',')]\n",
    "            x.append(line[0])\n",
    "            y.append(line[1])\n",
    "    \n",
    "    return np.asarray(x), np.asarray(y)"
   ]
  },
  {
   "cell_type": "code",
   "execution_count": 50,
   "id": "09f268ae-fa1a-4579-a609-ed65f5129364",
   "metadata": {},
   "outputs": [],
   "source": [
    "dataset = 'demo'"
   ]
  },
  {
   "cell_type": "code",
   "execution_count": 51,
   "id": "5666280a",
   "metadata": {},
   "outputs": [],
   "source": [
    "# enter training data\n",
    "filename = f'datasets/{dataset}/train.txt'\n",
    "\n",
    "x, y = read_input_file(filename)"
   ]
  },
  {
   "cell_type": "code",
   "execution_count": 52,
   "id": "fcf04367-7db7-4981-a70b-d3bdec9a80fe",
   "metadata": {},
   "outputs": [],
   "source": [
    "tqdm._instances.clear()"
   ]
  },
  {
   "cell_type": "code",
   "execution_count": 53,
   "id": "6b66d14d",
   "metadata": {},
   "outputs": [],
   "source": [
    "# build model using training data\n",
    "# gradient descent for loss function\n",
    "\n",
    "def linear_regression(x, y):\n",
    "    # a = 0\n",
    "    a = rng.uniform(-1, 1)\n",
    "    # b = 0\n",
    "    b = rng.uniform(-1, 1)\n",
    "    alpha = 0.0001\n",
    "    n = len(x)\n",
    "\n",
    "    epochs = 100000 // n\n",
    "    for e in trange(epochs):\n",
    "        for num in range(n):\n",
    "            y_pred = a*x + b\n",
    "            partial_a = (1/n)*np.sum((y_pred-y)*x)\n",
    "            partial_b = (1/n)*np.sum(y_pred-y)\n",
    "            a = a - alpha*partial_a\n",
    "            b = b - alpha*partial_b\n",
    "        \n",
    "    return a, b"
   ]
  },
  {
   "cell_type": "code",
   "execution_count": 54,
   "id": "640254ba",
   "metadata": {},
   "outputs": [
    {
     "name": "stderr",
     "output_type": "stream",
     "text": [
      "100%|██████████████████████████████████████████████████████████| 5000/5000 [00:06<00:00, 822.32it/s]\n"
     ]
    }
   ],
   "source": [
    "# weights and bias learned\n",
    "a, b = linear_regression(x, y)"
   ]
  },
  {
   "cell_type": "code",
   "execution_count": 55,
   "id": "7186a6fc",
   "metadata": {},
   "outputs": [],
   "source": [
    "# read test file\n",
    "\n",
    "def read_test_file(test_file):\n",
    "    t = []\n",
    "    \n",
    "    with open(test_file) as f:\n",
    "        lines = f.readlines()\n",
    "        for line in lines[1:]:\n",
    "            line = [float(i.strip()) for i in line.split(',')]\n",
    "            t.append(line[0])\n",
    "        \n",
    "    return np.asarray(t)"
   ]
  },
  {
   "cell_type": "code",
   "execution_count": 56,
   "id": "e072b325-748e-4a6b-b5ec-978ae24eff4e",
   "metadata": {},
   "outputs": [],
   "source": [
    "# test file\n",
    "filename = f'datasets/{dataset}/test.txt'\n",
    "t = read_test_file(filename)"
   ]
  },
  {
   "cell_type": "code",
   "execution_count": 57,
   "id": "e8d65a11",
   "metadata": {},
   "outputs": [],
   "source": [
    "# make predictions\n",
    "# plot the graph\n",
    "\n",
    "def plot (x, y, t, a, b):\n",
    "    y_test = []\n",
    "    \n",
    "    for num in range(len(t)):\n",
    "        y_test.append(a*t[num] + b)\n",
    "        \n",
    "    # write predicted values to new file    \n",
    "    # with open('result_2.txt', 'w') as f:\n",
    "    #     for val in y_test:\n",
    "    #         f.write(\"%s\\n\" % val)\n",
    "    \n",
    "    # plot training input data points (input, output)\n",
    "    plt.scatter(x, y, label=\"training data points\") \n",
    "    \n",
    "    # plot linear function learned from training data\n",
    "    plt.plot(x, a*x+b, color='red', label='trained linear function')\n",
    "    \n",
    "    # plot predicted value for test file\n",
    "    plt.scatter(t, y_test, color='orange', label=\"predicted output values\")\n",
    "    plt.legend()"
   ]
  },
  {
   "cell_type": "code",
   "execution_count": 59,
   "id": "97fb48ee",
   "metadata": {},
   "outputs": [
    {
     "data": {
      "image/png": "[encoded data removed]",
      "text/plain": [
       "<Figure size 432x288 with 1 Axes>"
      ]
     },
     "metadata": {
      "needs_background": "light"
     },
     "output_type": "display_data"
    }
   ],
   "source": [
    "plot(x, y, t, a, b)"
   ]
  },
  {
   "cell_type": "code",
   "execution_count": null,
   "id": "0b36e404",
   "metadata": {},
   "outputs": [],
   "source": []
  }
 ],
 "metadata": {
  "kernelspec": {
   "display_name": "Python [conda env:cs411]",
   "language": "python",
   "name": "conda-env-cs411-py"
  },
  "language_info": {
   "codemirror_mode": {
    "name": "ipython",
    "version": 3
   },
   "file_extension": ".py",
   "mimetype": "text/x-python",
   "name": "python",
   "nbconvert_exporter": "python",
   "pygments_lexer": "ipython3",
   "version": "3.10.2"
  }
 },
 "nbformat": 4,
 "nbformat_minor": 5
}
