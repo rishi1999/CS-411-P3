{
 "cells": [
  {
   "cell_type": "code",
   "execution_count": 37,
   "id": "691d7efc",
   "metadata": {},
   "outputs": [],
   "source": [
    "import numpy as np"
   ]
  },
  {
   "cell_type": "code",
   "execution_count": 38,
   "id": "bafb39ae",
   "metadata": {},
   "outputs": [],
   "source": [
    "# read file with multiple attributes\n",
    "\n",
    "def read_input_file (filename):\n",
    "    x = []\n",
    "    y = []\n",
    "    \n",
    "    with open(filename) as f:\n",
    "        lines = f.readlines()\n",
    "        for line in lines[1:]:\n",
    "            line = line.strip().split(',')\n",
    "            line = [float(i) for i in line]\n",
    "            x.append(line[:-1])\n",
    "            y.append(line[-1])\n",
    "    x = np.asarray(x)\n",
    "    y = np.asarray(y)\n",
    "    y = y.reshape(y.shape[0], 1)\n",
    "\n",
    "    return x, y"
   ]
  },
  {
   "cell_type": "code",
   "execution_count": 39,
   "id": "d24a019d",
   "metadata": {},
   "outputs": [],
   "source": [
    "# attributes and output\n",
    "filename = 'linear_regression_data_1.txt' # input training file name\n",
    "\n",
    "x = read_input_file(filename)[0]\n",
    "y = read_input_file(filename)[1]"
   ]
  },
  {
   "cell_type": "code",
   "execution_count": 40,
   "id": "6b66d14d",
   "metadata": {},
   "outputs": [],
   "source": [
    "# build model\n",
    "# gradient descent for loss function\n",
    "\n",
    "def linear_regression (x, y):\n",
    "    w = np.zeros((x.shape[1], 1))\n",
    "    b = 0\n",
    "    alpha = 0.0001\n",
    "    n = x.shape[0]\n",
    "    \n",
    "    for num in range(n):\n",
    "        y_pred = np.dot(x, w)+b\n",
    "        partial_w = (1/n)*np.sum(np.dot(x.T, y_pred-y))\n",
    "        partial_b = (1/n)*np.sum(y_pred-y)\n",
    "        w = w - alpha*partial_w\n",
    "        b = b - alpha*partial_b\n",
    " \n",
    "    return w, b"
   ]
  },
  {
   "cell_type": "code",
   "execution_count": 41,
   "id": "640254ba",
   "metadata": {},
   "outputs": [],
   "source": [
    "# weights and bias\n",
    "w = linear_regression(x, y)[0]\n",
    "b = linear_regression(x, y)[1]"
   ]
  },
  {
   "cell_type": "code",
   "execution_count": 42,
   "id": "9a89eca1",
   "metadata": {},
   "outputs": [],
   "source": [
    "# read test file\n",
    "\n",
    "def read_test_file (test_file):\n",
    "    t = []\n",
    "    \n",
    "    with open(test_file) as f:\n",
    "        lines = f.readlines()\n",
    "        for line in lines[1:]:\n",
    "            line = line.strip().split(',')\n",
    "            line = [float(i) for i in line]\n",
    "            t.append(line)\n",
    "    t = np.asarray(t)\n",
    "\n",
    "    return t"
   ]
  },
  {
   "cell_type": "code",
   "execution_count": 43,
   "id": "74623d05",
   "metadata": {},
   "outputs": [],
   "source": [
    "test_file = 'test_file_1.txt' # input testing file name\n",
    "t = read_test_file(test_file)"
   ]
  },
  {
   "cell_type": "code",
   "execution_count": 44,
   "id": "e8d65a11",
   "metadata": {},
   "outputs": [],
   "source": [
    "# use test file and write predicted values to new file\n",
    "with open('result_1.txt', 'w') as f:\n",
    "    f.write(str(np.dot(t, w)+b))"
   ]
  },
  {
   "cell_type": "code",
   "execution_count": null,
   "id": "d4c5eaad",
   "metadata": {},
   "outputs": [],
   "source": []
  }
 ],
 "metadata": {
  "kernelspec": {
   "display_name": "Python 3 (ipykernel)",
   "language": "python",
   "name": "python3"
  },
  "language_info": {
   "codemirror_mode": {
    "name": "ipython",
    "version": 3
   },
   "file_extension": ".py",
   "mimetype": "text/x-python",
   "name": "python",
   "nbconvert_exporter": "python",
   "pygments_lexer": "ipython3",
   "version": "3.9.7"
  }
 },
 "nbformat": 4,
 "nbformat_minor": 5
}
