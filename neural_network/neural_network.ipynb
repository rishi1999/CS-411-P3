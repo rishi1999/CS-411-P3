{
 "cells": [
  {
   "cell_type": "code",
   "execution_count": 1,
   "id": "db1dae15-85c6-49e0-906e-af2fd3f86165",
   "metadata": {},
   "outputs": [],
   "source": [
    "from math import exp\n",
    "from random import random\n",
    "from copy import deepcopy\n",
    "from tqdm import tqdm, trange\n",
    "from matplotlib import pyplot as plt"
   ]
  },
  {
   "cell_type": "code",
   "execution_count": 55,
   "id": "08edb4ea-9ecf-4f34-97bf-51a3818957c7",
   "metadata": {},
   "outputs": [],
   "source": [
    "def normalization_factors(xss):\n",
    "    factors = [float('-inf')] * len(xss)\n",
    "    for xs in xss:\n",
    "        for i, x in enumerate(xs):\n",
    "            factors[i] = max(factors[i], abs(x))\n",
    "    return factors\n",
    "def normalized_input(xss, factors):\n",
    "    return [[x / f for x, f in zip(xs, factors)] for xs in xss]"
   ]
  },
  {
   "cell_type": "code",
   "execution_count": 56,
   "id": "b5049723-e69e-4fa6-8730-e4c9e9e3e481",
   "metadata": {},
   "outputs": [],
   "source": [
    "def read_train(filename):\n",
    "    with open(filename) as f:\n",
    "        data = f.readlines()\n",
    "    \n",
    "    # read column headers\n",
    "    line = [item.strip() for item in data[0].split(',')]\n",
    "    attr_vars = line[:-1]\n",
    "    class_var = line[-1]\n",
    "    \n",
    "    class_count = 0\n",
    "    class_name_to_idx = {}\n",
    "    class_idx_to_name = []\n",
    "    \n",
    "    x_train = []\n",
    "    y_train = []\n",
    "\n",
    "    # read train data\n",
    "    for line in data[1:]:\n",
    "        line = [item.strip() for item in line.split(',')]\n",
    "        c = line[-1]\n",
    "        if c not in class_name_to_idx:\n",
    "            class_name_to_idx[c] = class_count\n",
    "            class_idx_to_name.append(c)\n",
    "            class_count += 1\n",
    "        x_train.append([float(val) for val in line[:-1]])\n",
    "        y_train.append(class_name_to_idx[c])\n",
    "        \n",
    "    n_factors = normalization_factors(x_train)\n",
    "    x_train = normalized_input(x_train, n_factors)\n",
    "    \n",
    "    return attr_vars, class_var, class_name_to_idx, class_idx_to_name, x_train, y_train, n_factors"
   ]
  },
  {
   "cell_type": "code",
   "execution_count": 57,
   "id": "fb209b5e-5129-4e2f-8185-7e60a4507721",
   "metadata": {},
   "outputs": [],
   "source": [
    "def read_test(filename, n_factors):\n",
    "    with open(filename) as f:\n",
    "        data = f.readlines()\n",
    "    \n",
    "    x_test = []\n",
    "\n",
    "    # read test data\n",
    "    for line in data[1:]:\n",
    "        line = [item.strip() for item in line.split(',')]\n",
    "        x_test.append([float(val) for val in line])\n",
    "    \n",
    "    return normalized_input(x_test, n_factors)"
   ]
  },
  {
   "cell_type": "code",
   "execution_count": 58,
   "id": "900012bc-8740-4007-966e-d6413e034db1",
   "metadata": {},
   "outputs": [],
   "source": [
    "sigmoid = lambda xs: [1 / (1 + exp(-x)) for x in xs]\n",
    "# sigmoid_prime = lambda x: (exp(x) / (1 + exp(x))) / (1 + exp(x))\n",
    "sigmoid_prime = lambda x: 1 / (1 + exp(-x)) * (1 - 1 / (1 + exp(-x)))\n",
    "\n",
    "relu = lambda xs: [x if x > 0 else 0 for x in xs]\n",
    "relu_prime = lambda x: 1 if x > 0 else 0\n",
    "\n",
    "def softmax(xs):\n",
    "    numer = [exp(x) for x in xs]\n",
    "    denom = sum(numer)\n",
    "    return [x / denom for x in numer]\n",
    "\n",
    "def sel(network_output, label):\n",
    "    return 1 - 2 * network_output[label] + sum([val**2 for val in network_output])\n",
    "\n",
    "def softmax_sel_prime(k, layer, label):\n",
    "    res = 0\n",
    "    for i, val in enumerate(layer):\n",
    "        if k == i:\n",
    "            ltemp = exp(val) / sum([exp(x) for x in layer]) * (1 - exp(val) / sum([exp(x) for x in layer]))\n",
    "        else:\n",
    "            ltemp = -exp(val) * exp(layer[k]) / sum([exp(x) for x in layer])**2\n",
    "        if i == label:\n",
    "            rtemp = 2 + 2 * exp(val) / sum([exp(x) for x in layer])\n",
    "        else:\n",
    "            rtemp = 2 * exp(val) / sum([exp(x) for x in layer])\n",
    "        res += ltemp * rtemp\n",
    "    return res"
   ]
  },
  {
   "cell_type": "code",
   "execution_count": 59,
   "id": "7fca5841-b4bc-431d-a489-dfb97399a516",
   "metadata": {},
   "outputs": [],
   "source": [
    "def initialize_weights(layer_sizes):\n",
    "    return [[[random() \n",
    "             for _ in range(rsize)] \n",
    "            for _ in range(lsize + 1)] \n",
    "           for lsize, rsize in zip(layer_sizes, layer_sizes[1:])]"
   ]
  },
  {
   "cell_type": "code",
   "execution_count": 60,
   "id": "8af28f2c-f77b-4eea-a731-b70a38b6e130",
   "metadata": {},
   "outputs": [],
   "source": [
    "def update_weights(layer_sizes, weights, deltas, layers, learning_rate):\n",
    "    for i in range(1, len(layer_sizes)):\n",
    "        for j in range(layer_sizes[i - 1] + 1):\n",
    "            for k in range(layer_sizes[i]):\n",
    "                weights[i - 1][j][k] -= learning_rate * (layers[i - 1] + [1])[j] * deltas[i - 1][k]"
   ]
  },
  {
   "cell_type": "code",
   "execution_count": 61,
   "id": "0ccf1232-c20f-45af-94fb-183dc9c13f1f",
   "metadata": {},
   "outputs": [],
   "source": [
    "def backprop(weights, layer_sizes, activation, activation_prime, final_act, loss, final_act_loss_prime, batch_size, learning_rate, x_train, y_train):    \n",
    "    for i, (x, y) in enumerate(zip(x_train, y_train)):\n",
    "        if i % batch_size == 0:\n",
    "            old_weights = deepcopy(weights)\n",
    "            \n",
    "        layers, layers_pre_act = evaluate(layer_sizes, activation, final_act, old_weights, x)\n",
    "        \n",
    "        # compute deltas in reverse order\n",
    "        deltas = [[final_act_loss_prime(k, layers_pre_act[-1], y) \n",
    "                   for k in range(layer_sizes[-1])]]\n",
    "        for j in range(len(layer_sizes) - 2, 0, -1):\n",
    "            deltas.append([sum([activation_prime(layers_pre_act[j][k]) * old_weights[j][k][l] * deltas[-1][l] \n",
    "                                  for l in range(layer_sizes[j + 1])]) \n",
    "                                 for k in range(layer_sizes[j])])\n",
    "        deltas.reverse()\n",
    "        \n",
    "        # normalize gradients\n",
    "        deltas = [[delta / len(x_train) for delta in deltas_layer] for deltas_layer in deltas]\n",
    "        \n",
    "        update_weights(layer_sizes, weights, deltas, layers, learning_rate)\n",
    "    \n",
    "    return weights"
   ]
  },
  {
   "cell_type": "code",
   "execution_count": 9,
   "id": "57ea52c7-6a06-455e-89be-f7f8bfe8e83c",
   "metadata": {},
   "outputs": [],
   "source": [
    "def evaluate(layer_sizes, activation, final_act, weights, x):\n",
    "    layers_pre_act = [x]\n",
    "    layers = [x]\n",
    "    layer = x\n",
    "\n",
    "    for i, (lsize, rsize) in enumerate(zip(layer_sizes, layer_sizes[1:])):\n",
    "        layer_pre_act = [sum([weights[i][j][k] * (layer + [1])[j] \n",
    "                              for j in range(lsize + 1)]) \n",
    "                         for k in range(rsize)]\n",
    "        layers_pre_act.append(layer_pre_act)\n",
    "        \n",
    "        if i > len(layer_sizes) - 3:\n",
    "            act = final_act\n",
    "        else:\n",
    "            act = activation\n",
    "        layer = act(layer_pre_act)\n",
    "        layers.append(layer)\n",
    "        \n",
    "    return layers, layers_pre_act"
   ]
  },
  {
   "cell_type": "code",
   "execution_count": 19,
   "id": "e2de18ee-2c95-4fd4-bfd8-e98c43f6f847",
   "metadata": {},
   "outputs": [],
   "source": [
    "def classify(class_idx_to_name, layer_sizes, activation, final_act, weights, x):\n",
    "    layers, layers_pre_act = evaluate(layer_sizes, activation, final_act, weights, x)\n",
    "    final_layer = layers[-1]\n",
    "    return class_idx_to_name[max(range(layer_sizes[-1]), key=lambda x: final_layer[x])]"
   ]
  },
  {
   "cell_type": "code",
   "execution_count": 11,
   "id": "8fb82a7e-513a-4128-9248-595248c9ba3a",
   "metadata": {},
   "outputs": [],
   "source": [
    "train_file = \"train_diabetes.txt\"\n",
    "test_file = \"test_diabetes.txt\"\n",
    "output_file = \"out_diabetes.txt\""
   ]
  },
  {
   "cell_type": "code",
   "execution_count": 12,
   "id": "6259b5df-4c28-4f1a-8434-55442d36b105",
   "metadata": {},
   "outputs": [],
   "source": [
    "attr_vars, class_var, class_name_to_idx, class_idx_to_name, x_train, y_train, n_factors = read_train(train_file)\n",
    "x_test = read_test(test_file, n_factors)"
   ]
  },
  {
   "cell_type": "code",
   "execution_count": 51,
   "id": "6c480442-7392-4d52-89f1-d6a8c41b630d",
   "metadata": {},
   "outputs": [],
   "source": [
    "layer_sizes = (8, 7, 2)\n",
    "batch_size = 20\n",
    "\n",
    "learning_rate = 1\n",
    "epochs = 40\n",
    "\n",
    "activation = sigmoid\n",
    "# activation = relu\n",
    "activation_prime = sigmoid_prime\n",
    "# activation_prime = relu_prime\n",
    "final_act = softmax\n",
    "loss = sel\n",
    "final_act_loss_prime = softmax_sel_prime"
   ]
  },
  {
   "cell_type": "code",
   "execution_count": 52,
   "id": "347b7866-0f2f-4192-b063-2ec851ba99a6",
   "metadata": {},
   "outputs": [
    {
     "name": "stderr",
     "output_type": "stream",
     "text": [
      "100%|███████████████████████████████████████████████████████████████| 40/40 [00:04<00:00,  8.11it/s]\n"
     ]
    }
   ],
   "source": [
    "weights = initialize_weights(layer_sizes)\n",
    "initial_weights = deepcopy(weights)\n",
    "losses = []\n",
    "l_rate = learning_rate\n",
    "\n",
    "for e in trange(epochs):\n",
    "    # update learning rate\n",
    "    l_rate = learning_rate / (epochs + 1)\n",
    "    \n",
    "    # backprop using all train data\n",
    "    weights = backprop(\n",
    "        weights,\n",
    "        layer_sizes, \n",
    "        activation, \n",
    "        activation_prime, \n",
    "        final_act, \n",
    "        loss, \n",
    "        final_act_loss_prime, \n",
    "        batch_size, \n",
    "        l_rate, \n",
    "        x_train, \n",
    "        y_train)\n",
    "\n",
    "    # calculate total loss\n",
    "    temp = 0\n",
    "    for x, y in zip(x_train, y_train):\n",
    "        layers, _ = evaluate(layer_sizes, activation, final_act, weights, x)\n",
    "        temp += loss(layers[-1], y)\n",
    "    losses.append(temp)"
   ]
  },
  {
   "cell_type": "code",
   "execution_count": 53,
   "id": "dc16a6ba-fef8-44d7-a007-d2b88f5278e9",
   "metadata": {
    "tags": []
   },
   "outputs": [
    {
     "data": {
      "text/plain": [
       "[<matplotlib.lines.Line2D at 0x7fc6ed05f430>]"
      ]
     },
     "execution_count": 53,
     "metadata": {},
     "output_type": "execute_result"
    },
    {
     "data": {
      "image/png": "[encoded data removed]",
      "text/plain": [
       "<Figure size 432x288 with 1 Axes>"
      ]
     },
     "metadata": {
      "needs_background": "light"
     },
     "output_type": "display_data"
    }
   ],
   "source": [
    "fig, ax = plt.subplots()\n",
    "ax.plot(range(epochs), losses)"
   ]
  },
  {
   "cell_type": "code",
   "execution_count": 54,
   "id": "af6fae8a-c8f6-4802-aa29-0c5a40f33d20",
   "metadata": {},
   "outputs": [
    {
     "name": "stdout",
     "output_type": "stream",
     "text": [
      "0\n",
      "0\n",
      "0\n",
      "0\n",
      "0\n",
      "0\n",
      "0\n",
      "0\n",
      "0\n",
      "0\n",
      "0\n",
      "0\n",
      "0\n",
      "0\n"
     ]
    }
   ],
   "source": [
    "res = []\n",
    "for x in x_test:\n",
    "    y = classify(class_idx_to_name, layer_sizes, activation, final_act, weights, x)\n",
    "    res.append(y)\n",
    "    \n",
    "with open(output_file, 'w') as f:\n",
    "    print('\\n'.join(res))\n",
    "    f.write('\\n'.join(res))"
   ]
  },
  {
   "cell_type": "code",
   "execution_count": null,
   "id": "af370ff9-dd29-48ef-b76a-b964530f6500",
   "metadata": {},
   "outputs": [],
   "source": []
  }
 ],
 "metadata": {
  "kernelspec": {
   "display_name": "Python [conda env:cs411]",
   "language": "python",
   "name": "conda-env-cs411-py"
  },
  "language_info": {
   "codemirror_mode": {
    "name": "ipython",
    "version": 3
   },
   "file_extension": ".py",
   "mimetype": "text/x-python",
   "name": "python",
   "nbconvert_exporter": "python",
   "pygments_lexer": "ipython3",
   "version": "3.10.2"
  }
 },
 "nbformat": 4,
 "nbformat_minor": 5
}
