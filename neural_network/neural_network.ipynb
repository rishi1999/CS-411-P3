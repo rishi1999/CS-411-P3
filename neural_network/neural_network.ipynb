{
 "cells": [
  {
   "cell_type": "code",
   "execution_count": 1,
   "id": "db1dae15-85c6-49e0-906e-af2fd3f86165",
   "metadata": {},
   "outputs": [],
   "source": [
    "from math import exp, sqrt, isclose\n",
    "from statistics import fmean, pstdev\n",
    "from random import uniform\n",
    "from copy import deepcopy\n",
    "from tqdm import tqdm, trange\n",
    "from matplotlib import pyplot as plt"
   ]
  },
  {
   "cell_type": "markdown",
   "id": "a3eb8051-bf76-4dad-8631-54460eaa23b0",
   "metadata": {},
   "source": [
    "## read data"
   ]
  },
  {
   "cell_type": "code",
   "execution_count": 2,
   "id": "08edb4ea-9ecf-4f34-97bf-51a3818957c7",
   "metadata": {},
   "outputs": [],
   "source": [
    "def normalization_factors(xss):\n",
    "    return [(fmean(xs), pstdev(xs)) for xs in zip(*xss)]\n",
    "\n",
    "def normalized_input(xss, stats):\n",
    "    return [[(x - m) / s if s > 0 else 0 for x, (m, s) in zip(xs, stats)] for xs in xss]\n",
    "\n",
    "def n_factors_test():\n",
    "    lst = [[1, 2, 3, 4, 6], [2, 3, 4, 5, 6], [3, 4, 5, 6, 6]]\n",
    "    n_factors = normalization_factors(lst)\n",
    "    n_factors_true = [(2, sqrt(14/3 - 4)), \n",
    "                        (3, sqrt(29/3 - 9)), \n",
    "                        (4, sqrt(50/3 - 16)), \n",
    "                        (5, sqrt(77/3 - 25)), \n",
    "                        (6, 0)]\n",
    "    for (m, s), (mt, st) in zip(n_factors, n_factors_true):\n",
    "        assert m == mt and isclose(s, st)\n",
    "    \n",
    "    doubled = normalization_factors(normalized_input(lst, n_factors))\n",
    "    doubled_true = [(0, 1), (0, 1), (0, 1), (0, 1), (0, 0)]\n",
    "    for (m, s), (mt, st) in zip(doubled, doubled_true):\n",
    "        assert m == mt and isclose(s, st)"
   ]
  },
  {
   "cell_type": "code",
   "execution_count": 3,
   "id": "b5049723-e69e-4fa6-8730-e4c9e9e3e481",
   "metadata": {},
   "outputs": [],
   "source": [
    "def read_train(filename):\n",
    "    with open(filename) as f:\n",
    "        data = f.readlines()\n",
    "    \n",
    "    # read column headers\n",
    "    line = [item.strip() for item in data[0].split(',')]\n",
    "    attr_vars = line[:-1]\n",
    "    class_var = line[-1]\n",
    "    \n",
    "    class_count = 0\n",
    "    class_name_to_idx = {}\n",
    "    class_idx_to_name = []\n",
    "    \n",
    "    x_train = []\n",
    "    y_train = []\n",
    "\n",
    "    # read train data\n",
    "    for line in data[1:]:\n",
    "        line = [item.strip() for item in line.split(',')]\n",
    "        c = line[-1]\n",
    "        if c not in class_name_to_idx:\n",
    "            class_name_to_idx[c] = class_count\n",
    "            class_idx_to_name.append(c)\n",
    "            class_count += 1\n",
    "        x_train.append([float(val) for val in line[:-1]])\n",
    "        y_train.append(class_name_to_idx[c])\n",
    "        \n",
    "    stats = normalization_factors(x_train)\n",
    "    x_train = normalized_input(x_train, stats)\n",
    "    \n",
    "    return attr_vars, class_var, class_name_to_idx, class_idx_to_name, list(zip(x_train, y_train)), stats, len(x_train)"
   ]
  },
  {
   "cell_type": "code",
   "execution_count": 4,
   "id": "fb209b5e-5129-4e2f-8185-7e60a4507721",
   "metadata": {},
   "outputs": [],
   "source": [
    "def read_test(filename, stats):\n",
    "    with open(filename) as f:\n",
    "        data = f.readlines()\n",
    "    \n",
    "    x_test = []\n",
    "    for line in data[1:]:\n",
    "        line = [item.strip() for item in line.split(',')]\n",
    "        x_test.append([float(val) for val in line])\n",
    "    \n",
    "    return normalized_input(x_test, stats)"
   ]
  },
  {
   "cell_type": "markdown",
   "id": "2ac59f29-5355-4533-9cdd-7448be3013f2",
   "metadata": {},
   "source": [
    "## activation and loss functions"
   ]
  },
  {
   "cell_type": "code",
   "execution_count": 5,
   "id": "900012bc-8740-4007-966e-d6413e034db1",
   "metadata": {},
   "outputs": [],
   "source": [
    "sigmoid = lambda xs: [1 / (1 + exp(-x)) for x in xs]\n",
    "sigmoid_prime = lambda x: 1 / (1 + exp(-x)) * (1 - 1 / (1 + exp(-x)))\n",
    "\n",
    "relu = lambda xs: [x if x > 0 else 0 for x in xs]\n",
    "relu_prime = lambda x: 1 if x > 0 else 0\n",
    "\n",
    "def softmax(xs):\n",
    "    numer = [exp(x) for x in xs]\n",
    "    denom = sum(numer)\n",
    "    return [x / denom for x in numer]\n",
    "\n",
    "def sel(network_output, label):\n",
    "    return (1 - 2 * network_output[label] + sum([val**2 for val in network_output])) / len(network_output)\n",
    "\n",
    "def softmax_sel_prime(k, layer, label):\n",
    "    res = 0\n",
    "    for i, val in enumerate(layer):\n",
    "        if k == i:\n",
    "            ltemp = exp(val) / sum([exp(x) for x in layer]) * (1 - exp(val) / sum([exp(x) for x in layer]))\n",
    "            # assert ltemp >= 0\n",
    "        else:\n",
    "            ltemp = -exp(val) / sum([exp(x) for x in layer]) * exp(layer[k]) / sum([exp(x) for x in layer])\n",
    "            # assert ltemp <= 0\n",
    "        if i == label:\n",
    "            rtemp = -2 + 2 * exp(val) / sum([exp(x) for x in layer])\n",
    "            # assert rtemp <= 0\n",
    "        else:\n",
    "            rtemp = 2 * exp(val) / sum([exp(x) for x in layer])\n",
    "            # assert rtemp >= 0\n",
    "        res += ltemp * rtemp\n",
    "    return res / len(layer)\n",
    "\n",
    "def sigmoid_sel_prime(k, layer, label):\n",
    "    ltemp = sigmoid_prime(layer[k])\n",
    "    if k == label:\n",
    "        rtemp = 2 + 2 * exp(layer[k]) / sum([exp(x) for x in layer])\n",
    "    else:\n",
    "        rtemp = 2 * exp(layer[k]) / sum([exp(x) for x in layer])\n",
    "    return ltemp * rtemp / len(layer)"
   ]
  },
  {
   "cell_type": "code",
   "execution_count": 6,
   "id": "a80c1471-b8a0-4e2c-9d08-299d38067ca7",
   "metadata": {},
   "outputs": [],
   "source": [
    "def activation_test():\n",
    "    lst = [-2, -1, 0, 1, 2]\n",
    "    lst_sigmoid = sigmoid(lst)\n",
    "    lst_sigmoid_true = [0.119202922022, \n",
    "                        0.26894142137, \n",
    "                        0.5, \n",
    "                        0.73105857863, \n",
    "                        0.880797077978]\n",
    "    for x1, x2 in zip(lst_sigmoid, lst_sigmoid_true):\n",
    "        assert isclose(x1, x2)"
   ]
  },
  {
   "cell_type": "markdown",
   "id": "68aedfe2-8d8a-4b93-a7ca-aaaa4827409f",
   "metadata": {},
   "source": [
    "## neural network functions"
   ]
  },
  {
   "cell_type": "code",
   "execution_count": 7,
   "id": "57ea52c7-6a06-455e-89be-f7f8bfe8e83c",
   "metadata": {},
   "outputs": [],
   "source": [
    "def forward(layer_sizes, activation, final_act, weights, x):\n",
    "    layers_pre_act = [x]\n",
    "    layers = [x]\n",
    "\n",
    "    for i, (lsize, rsize) in enumerate(zip(layer_sizes, layer_sizes[1:])):\n",
    "        layers_pre_act.append([sum([weights[i][j][k] * (layers[-1] + [1])[j] \n",
    "                              for j in range(lsize + 1)]) \n",
    "                         for k in range(rsize)])\n",
    "        \n",
    "        act = activation if i < len(layer_sizes) - 2 else final_act\n",
    "        layers.append(act(layers_pre_act[-1]))\n",
    "        \n",
    "    return layers, layers_pre_act\n",
    "\n",
    "def forward_test():\n",
    "    layer_sizes = (1, 1, 2)\n",
    "    activation = sigmoid\n",
    "    final_act = softmax\n",
    "    weights = [\n",
    "        [[1], [2]],\n",
    "        [[3, 4], [5, 6]]\n",
    "    ]\n",
    "    x = [7]\n",
    "    print(forward(layer_sizes, activation, final_act, weights, x))"
   ]
  },
  {
   "cell_type": "code",
   "execution_count": 8,
   "id": "e2de18ee-2c95-4fd4-bfd8-e98c43f6f847",
   "metadata": {},
   "outputs": [],
   "source": [
    "def classify(class_idx_to_name, layer_sizes, activation, final_act, weights, x):\n",
    "    layers, layers_pre_act = forward(layer_sizes, activation, final_act, weights, x)\n",
    "    final_layer = layers[-1]\n",
    "    return class_idx_to_name[max(range(layer_sizes[-1]), key=lambda x: final_layer[x])]"
   ]
  },
  {
   "cell_type": "code",
   "execution_count": 9,
   "id": "24c62a54-a641-4796-9365-fe54d7f5a5d3",
   "metadata": {},
   "outputs": [],
   "source": [
    "def backward(layer_sizes, \n",
    "             activation_prime, \n",
    "             final_act_loss_prime, \n",
    "             old_weights, \n",
    "             weights, \n",
    "             layers, \n",
    "             layers_pre_act, \n",
    "             step, \n",
    "             y):\n",
    "    # compute deltas in reverse order\n",
    "    deltas = [[final_act_loss_prime(k, layers_pre_act[-1], y) \n",
    "               for k in range(layer_sizes[-1])]]\n",
    "    for j in range(len(layer_sizes) - 2, 0, -1):\n",
    "        deltas.append([sum([\n",
    "            activation_prime(layers_pre_act[j][k]) * old_weights[j][k][l] * deltas[-1][l] \n",
    "            for l in range(layer_sizes[j + 1])\n",
    "        ]) for k in range(layer_sizes[j])])\n",
    "    deltas.reverse()\n",
    "    \n",
    "    # update weights\n",
    "    for i in range(1, len(layer_sizes)):\n",
    "        for j in range(layer_sizes[i - 1] + 1):\n",
    "            for k in range(layer_sizes[i]):\n",
    "                weights[i - 1][j][k] -= step * (layers[i - 1] + [1])[j] * deltas[i - 1][k]"
   ]
  },
  {
   "cell_type": "code",
   "execution_count": 10,
   "id": "0ccf1232-c20f-45af-94fb-183dc9c13f1f",
   "metadata": {},
   "outputs": [],
   "source": [
    "def train_one_epoch(weights, \n",
    "                    layer_sizes, \n",
    "                    activation, \n",
    "                    activation_prime, \n",
    "                    final_act, \n",
    "                    final_act_loss_prime, \n",
    "                    batch_size, \n",
    "                    step, \n",
    "                    train_data):\n",
    "    for i, (x, y) in enumerate(train_data):\n",
    "        if i % batch_size == 0:\n",
    "            old_weights = deepcopy(weights)\n",
    "            \n",
    "        layers, layers_pre_act = forward(layer_sizes, activation, final_act, old_weights, x)\n",
    "        \n",
    "        backward(layer_sizes, \n",
    "                 activation_prime, \n",
    "                 final_act_loss_prime, \n",
    "                 old_weights,\n",
    "                 weights,\n",
    "                 layers,\n",
    "                 layers_pre_act,\n",
    "                 step, \n",
    "                 y)"
   ]
  },
  {
   "cell_type": "code",
   "execution_count": 11,
   "id": "ee0e7dc4-9efb-4486-90c5-b195a83ab619",
   "metadata": {},
   "outputs": [],
   "source": [
    "def run_tests():\n",
    "    n_factors_test()\n",
    "    activation_test()\n",
    "    # forward_test()\n",
    "    print(\"All tests passed!\")"
   ]
  },
  {
   "cell_type": "markdown",
   "id": "d0ff8583-ff68-460c-978e-9da7df4253fa",
   "metadata": {},
   "source": [
    "## experiments"
   ]
  },
  {
   "cell_type": "code",
   "execution_count": 21,
   "id": "05b21eed-dd62-4fa0-8199-ae11c06dc50f",
   "metadata": {},
   "outputs": [],
   "source": [
    "dataset = \"diabetes\""
   ]
  },
  {
   "cell_type": "code",
   "execution_count": 22,
   "id": "8fb82a7e-513a-4128-9248-595248c9ba3a",
   "metadata": {},
   "outputs": [],
   "source": [
    "train_file = f\"datasets/{dataset}/train.txt\"\n",
    "test_file = f\"datasets/{dataset}/test.txt\"\n",
    "output_file = f\"datasets/{dataset}/out.txt\""
   ]
  },
  {
   "cell_type": "code",
   "execution_count": 23,
   "id": "6259b5df-4c28-4f1a-8434-55442d36b105",
   "metadata": {},
   "outputs": [],
   "source": [
    "attr_vars, class_var, class_name_to_idx, class_idx_to_name, train_data, stats, n = read_train(train_file)\n",
    "x_test = read_test(test_file, stats)"
   ]
  },
  {
   "cell_type": "code",
   "execution_count": 24,
   "id": "234929cd-a353-47d5-af72-bfa84c4719c3",
   "metadata": {},
   "outputs": [
    {
     "name": "stdout",
     "output_type": "stream",
     "text": [
      "All tests passed!\n"
     ]
    }
   ],
   "source": [
    "run_tests()"
   ]
  },
  {
   "cell_type": "code",
   "execution_count": 41,
   "id": "340c6251-d978-49f1-9f76-1277a89db0eb",
   "metadata": {},
   "outputs": [],
   "source": [
    "hidden_layer_sizes = {\n",
    "    \"diabetes\": [6, 3],\n",
    "    \"toy\": [2],\n",
    "    \"tiny\": [1]\n",
    "}"
   ]
  },
  {
   "cell_type": "code",
   "execution_count": 42,
   "id": "6c480442-7392-4d52-89f1-d6a8c41b630d",
   "metadata": {},
   "outputs": [
    {
     "name": "stdout",
     "output_type": "stream",
     "text": [
      "(8, 6, 3, 2)\n"
     ]
    }
   ],
   "source": [
    "layer_sizes = (len(attr_vars), *hidden_layer_sizes[dataset], len(class_name_to_idx))\n",
    "print(layer_sizes)\n",
    "batch_size = 20\n",
    "\n",
    "learning_rate = 1\n",
    "max_epochs = 1000\n",
    "\n",
    "activation = sigmoid\n",
    "# activation = relu\n",
    "activation_prime = sigmoid_prime\n",
    "# activation_prime = relu_prime\n",
    "# final_act = sigmoid\n",
    "final_act = softmax\n",
    "loss = sel\n",
    "# final_act_loss_prime = sigmoid_sel_prime\n",
    "final_act_loss_prime = softmax_sel_prime"
   ]
  },
  {
   "cell_type": "code",
   "execution_count": 48,
   "id": "b2865d4d-bcb3-4aa9-8871-36542de5c5b6",
   "metadata": {},
   "outputs": [],
   "source": [
    "tqdm._instances.clear()"
   ]
  },
  {
   "cell_type": "code",
   "execution_count": 49,
   "id": "347b7866-0f2f-4192-b063-2ec851ba99a6",
   "metadata": {
    "tags": []
   },
   "outputs": [
    {
     "name": "stderr",
     "output_type": "stream",
     "text": [
      " 35%|████████████████████▊                                       | 346/1000 [01:51<03:30,  3.10ep/s]\n",
      "100%|███████████████████████████████████████████████████████████| 1000/1000 [02:04<00:00,  8.05ep/s]\n"
     ]
    }
   ],
   "source": [
    "weights = [[[uniform(-1, 1) \n",
    "             for _ in range(rsize)] \n",
    "            for _ in range(lsize + 1)] \n",
    "           for lsize, rsize in zip(layer_sizes, layer_sizes[1:])]\n",
    "step_sizes = []\n",
    "losses = []\n",
    "\n",
    "step = learning_rate\n",
    "t = tqdm(total=max_epochs, unit=\"ep\")\n",
    "for e in range(max_epochs):\n",
    "    train_one_epoch(\n",
    "        weights,\n",
    "        layer_sizes, \n",
    "        activation, \n",
    "        activation_prime, \n",
    "        final_act, \n",
    "        final_act_loss_prime, \n",
    "        batch_size, \n",
    "        step / n, \n",
    "        train_data)\n",
    "    \n",
    "    step_sizes.append(step)\n",
    "\n",
    "    avg_loss = 0\n",
    "    for x, y in train_data:\n",
    "        layers, _ = forward(layer_sizes, activation, final_act, weights, x)\n",
    "        avg_loss += loss(layers[-1], y)\n",
    "    avg_loss /= n\n",
    "\n",
    "    if losses:\n",
    "        if avg_loss > losses[-1]:\n",
    "            step *= 0.8\n",
    "        else:\n",
    "            step *= 1.1\n",
    "\n",
    "    losses.append(avg_loss)\n",
    "\n",
    "    if step < 0.000001:\n",
    "        t.update(n=max_epochs-e)\n",
    "        t.close()\n",
    "        break\n",
    "    else:\n",
    "        t.update()\n",
    "t.close()"
   ]
  },
  {
   "cell_type": "code",
   "execution_count": 55,
   "id": "dc16a6ba-fef8-44d7-a007-d2b88f5278e9",
   "metadata": {
    "tags": []
   },
   "outputs": [
    {
     "data": {
      "image/png": "[encoded data removed]",
      "text/plain": [
       "<Figure size 720x288 with 2 Axes>"
      ]
     },
     "metadata": {
      "needs_background": "light"
     },
     "output_type": "display_data"
    }
   ],
   "source": [
    "fig, (ax1, ax2) = plt.subplots(1, 2, figsize=(10, 4))\n",
    "for ax, data, label in ((ax1, losses, \"loss\"), (ax2, step_sizes, \"step size\")):\n",
    "    ax.grid(visible=True)\n",
    "    ax.set_xlabel('epoch')\n",
    "    ax.set_ylabel(label)\n",
    "    ax.ticklabel_format(style='plain', useOffset=False)\n",
    "    ax.plot(range(e + 1), data)"
   ]
  },
  {
   "cell_type": "code",
   "execution_count": 56,
   "id": "af6fae8a-c8f6-4802-aa29-0c5a40f33d20",
   "metadata": {},
   "outputs": [
    {
     "name": "stdout",
     "output_type": "stream",
     "text": [
      "1\n",
      "1\n",
      "1\n",
      "1\n",
      "0\n",
      "0\n",
      "0\n",
      "1\n",
      "0\n",
      "0\n",
      "1\n",
      "0\n",
      "1\n",
      "0\n"
     ]
    }
   ],
   "source": [
    "res = []\n",
    "for x in x_test:\n",
    "    y = classify(class_idx_to_name, layer_sizes, activation, final_act, weights, x)\n",
    "    res.append(y)\n",
    "    \n",
    "with open(output_file, 'w') as f:\n",
    "    print('\\n'.join(res))\n",
    "    f.write('\\n'.join(res))"
   ]
  },
  {
   "cell_type": "code",
   "execution_count": null,
   "id": "722e1e41-ed5c-4fb2-aaf5-424c553e9d86",
   "metadata": {},
   "outputs": [],
   "source": []
  },
  {
   "cell_type": "code",
   "execution_count": null,
   "id": "c0671c30-9a7b-4189-9b0c-ddd1e5796710",
   "metadata": {},
   "outputs": [],
   "source": []
  },
  {
   "cell_type": "code",
   "execution_count": null,
   "id": "74681d22-dcf2-43f6-9ab8-00ea498c2df2",
   "metadata": {},
   "outputs": [],
   "source": []
  }
 ],
 "metadata": {
  "kernelspec": {
   "display_name": "Python [conda env:cs411]",
   "language": "python",
   "name": "conda-env-cs411-py"
  },
  "language_info": {
   "codemirror_mode": {
    "name": "ipython",
    "version": 3
   },
   "file_extension": ".py",
   "mimetype": "text/x-python",
   "name": "python",
   "nbconvert_exporter": "python",
   "pygments_lexer": "ipython3",
   "version": "3.10.2"
  }
 },
 "nbformat": 4,
 "nbformat_minor": 5
}
