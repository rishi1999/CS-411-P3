{
 "cells": [
  {
   "cell_type": "code",
   "execution_count": 10,
   "id": "691d7efc",
   "metadata": {},
   "outputs": [],
   "source": [
    "import numpy as np\n",
    "import matplotlib.pyplot as plt"
   ]
  },
  {
   "cell_type": "code",
   "execution_count": 11,
   "id": "bafb39ae",
   "metadata": {},
   "outputs": [],
   "source": [
    "# read file with single input variable\n",
    "\n",
    "def read_input_file (filename):\n",
    "    x = []\n",
    "    y = []\n",
    "    \n",
    "    with open(filename) as f:\n",
    "        lines = f.readlines()\n",
    "        for line in lines[1:]:\n",
    "            line = line.strip().split(',')\n",
    "            x.append(float(line[0]))\n",
    "            y.append(float(line[1]))\n",
    "    \n",
    "    return np.asarray(x), np.asarray(y)"
   ]
  },
  {
   "cell_type": "code",
   "execution_count": 12,
   "id": "5666280a",
   "metadata": {},
   "outputs": [],
   "source": [
    "# enter training data\n",
    "filename = 'linear_regression_data_2.txt' # input training file name\n",
    "\n",
    "x = read_input_file(filename)[0] # input\n",
    "y = read_input_file(filename)[1] # output"
   ]
  },
  {
   "cell_type": "code",
   "execution_count": 13,
   "id": "6b66d14d",
   "metadata": {},
   "outputs": [],
   "source": [
    "# build model using training data\n",
    "# gradient descent for loss function\n",
    "\n",
    "def linear_regression (x, y):\n",
    "    a = 0\n",
    "    b = 0\n",
    "    alpha = 0.0001\n",
    "    n = len(x)\n",
    "\n",
    "    for num in range(n):\n",
    "        y_pred = a*x + b\n",
    "        partial_a = (1/n)*np.sum((y_pred-y)*x)\n",
    "        partial_b = (1/n)*np.sum(y_pred-y)\n",
    "        a = a - alpha*partial_a\n",
    "        b = b - alpha*partial_b\n",
    "        \n",
    "    return a, b"
   ]
  },
  {
   "cell_type": "code",
   "execution_count": 14,
   "id": "640254ba",
   "metadata": {},
   "outputs": [],
   "source": [
    "# weights and bias learned\n",
    "a = linear_regression(x, y)[0]\n",
    "b = linear_regression(x, y)[1]"
   ]
  },
  {
   "cell_type": "code",
   "execution_count": 15,
   "id": "7186a6fc",
   "metadata": {},
   "outputs": [],
   "source": [
    "# read test file\n",
    "\n",
    "def read_test_file (test_file):\n",
    "    t = []\n",
    "    \n",
    "    with open(test_file) as f:\n",
    "        lines = f.readlines()\n",
    "        for line in lines[1:]:\n",
    "            line = line.strip().split(',')\n",
    "            t.append(float(line[0]))\n",
    "        \n",
    "    return np.asarray(t)"
   ]
  },
  {
   "cell_type": "code",
   "execution_count": 16,
   "id": "3a319ee2",
   "metadata": {},
   "outputs": [],
   "source": [
    "# test file\n",
    "test_file = 'test_file_2.txt' # input testing file name\n",
    "t = read_test_file(test_file)"
   ]
  },
  {
   "cell_type": "code",
   "execution_count": 17,
   "id": "e8d65a11",
   "metadata": {},
   "outputs": [],
   "source": [
    "# make predictions\n",
    "# plot the graph\n",
    "\n",
    "def plot (x, y, t, a, b):\n",
    "    y_test = []\n",
    "    \n",
    "    for num in range(len(x)):\n",
    "        y_test.append(a*t[num] + b)\n",
    "        \n",
    "    # write predicted values to new file    \n",
    "    '''with open('result_2.txt', 'w') as f:\n",
    "        for val in y_test:\n",
    "            f.write(\"%s\\n\" % val)'''\n",
    "    \n",
    "    # plot training input data points (input, output)\n",
    "    plt.scatter(x, y, label=\"training data points\") \n",
    "    \n",
    "    # plot linear function learned from training data\n",
    "    plt.plot(x, a*x+b, color='red', label='trained linear function')\n",
    "    \n",
    "    # plot predicted value for test file\n",
    "    plt.scatter(t, y_test, color='orange', label=\"predicted output values\")\n",
    "    plt.legend()"
   ]
  },
  {
   "cell_type": "code",
   "execution_count": 18,
   "id": "97fb48ee",
   "metadata": {},
   "outputs": [
    {
     "data": {
      "image/png": "[encoded data removed]",
      "text/plain": [
       "<Figure size 432x288 with 1 Axes>"
      ]
     },
     "metadata": {
      "needs_background": "light"
     },
     "output_type": "display_data"
    }
   ],
   "source": [
    "plot(x, y, t, a, b)"
   ]
  },
  {
   "cell_type": "code",
   "execution_count": null,
   "id": "0b36e404",
   "metadata": {},
   "outputs": [],
   "source": []
  }
 ],
 "metadata": {
  "kernelspec": {
   "display_name": "Python 3 (ipykernel)",
   "language": "python",
   "name": "python3"
  },
  "language_info": {
   "codemirror_mode": {
    "name": "ipython",
    "version": 3
   },
   "file_extension": ".py",
   "mimetype": "text/x-python",
   "name": "python",
   "nbconvert_exporter": "python",
   "pygments_lexer": "ipython3",
   "version": "3.9.7"
  }
 },
 "nbformat": 4,
 "nbformat_minor": 5
}
